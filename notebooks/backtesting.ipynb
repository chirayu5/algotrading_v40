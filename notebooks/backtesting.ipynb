{
 "cells": [
  {
   "cell_type": "code",
   "execution_count": 19,
   "id": "63d186c4",
   "metadata": {},
   "outputs": [],
   "source": [
    "import datetime as dt\n",
    "\n",
    "import numpy as np\n",
    "from backtesting import Backtest\n",
    "from backtesting.lib import Strategy\n",
    "\n",
    "import algotrading_v40.data_accessors.cleaned as dac\n",
    "import algotrading_v40.performance as perf\n",
    "import algotrading_v40.structures.date_range as sdr\n",
    "import algotrading_v40.structures.instrument_desc as sid"
   ]
  },
  {
   "cell_type": "code",
   "execution_count": 20,
   "id": "45dd9e16",
   "metadata": {},
   "outputs": [],
   "source": [
    "class PositionStrategy(Strategy):\n",
    "  \"\"\"\n",
    "  Rebalance every bar so that the position equals the value\n",
    "  in the `final_ba_position` column.\n",
    "  \"\"\"\n",
    "\n",
    "  def init(self):\n",
    "    # Nothing to pre-compute; we just need the method to exist\n",
    "    super().init()\n",
    "\n",
    "  def next(self):\n",
    "    desired = int(self.data.final_ba_position[-1])  # target position\n",
    "    current = self.position.size  # what we hold now\n",
    "    delta = desired - current  # how much to adjust\n",
    "    # print(\"T: \", len(self.data.final_ba_position))\n",
    "    # print(\"desired: \", desired, \"current: \", current, \"delta: \", delta)\n",
    "    if delta > 0:\n",
    "      self.buy(size=delta)  # go longer / cover shorts\n",
    "    elif delta < 0:\n",
    "      self.sell(size=-delta)  # go shorter / reduce longs"
   ]
  },
  {
   "cell_type": "code",
   "execution_count": 21,
   "id": "aebc5860",
   "metadata": {},
   "outputs": [],
   "source": [
    "data = dac.get_cleaned_data(\n",
    "  [\n",
    "    sid.EquityDesc(symbol=\"TRENT\", market=sid.Market.INDIAN_MARKET),\n",
    "    sid.EquityDesc(symbol=\"HDFCBANK\", market=sid.Market.INDIAN_MARKET),\n",
    "    sid.EquityDesc(symbol=\"GRASIM\", market=sid.Market.INDIAN_MARKET),\n",
    "    sid.EquityDesc(symbol=\"ICICIBANK\", market=sid.Market.INDIAN_MARKET),\n",
    "  ],\n",
    "  sdr.DateRange(dt.date(2021, 1, 1), dt.date(2021, 4, 10)),\n",
    ")\n",
    "data._instrument_desc_to_df_list\n",
    "df_icici = data.get_full_df_for_instrument_desc(\n",
    "  sid.EquityDesc(symbol=\"ICICIBANK\", market=sid.Market.INDIAN_MARKET)\n",
    ")"
   ]
  },
  {
   "cell_type": "code",
   "execution_count": 22,
   "id": "af0f4c55",
   "metadata": {},
   "outputs": [],
   "source": [
    "# just testing the backtesting library\n",
    "# so just creating a random signal'\n",
    "# seed = np.random.randint(0, 1000000)\n",
    "# print(f\"Seed: {seed}\")\n",
    "np.random.seed(361159)\n",
    "df_icici[\"final_ba_position\"] = (\n",
    "  (np.random.uniform(-50, 50, len(df_icici))).round().astype(int)\n",
    ")\n",
    "\n",
    "df_icici = df_icici.rename(\n",
    "  columns={\n",
    "    \"open\": \"Open\",\n",
    "    \"high\": \"High\",\n",
    "    \"low\": \"Low\",\n",
    "    \"close\": \"Close\",\n",
    "  }\n",
    ")\n",
    "df_icici = df_icici.iloc[46:248]\n",
    "# df_icici = df_icici.iloc[46:247]\n",
    "# we should start and end the backtest with 0 position\n",
    "df_icici.loc[df_icici.index[-1], \"final_ba_position\"] = 0"
   ]
  },
  {
   "cell_type": "code",
   "execution_count": 23,
   "id": "6d645c10",
   "metadata": {},
   "outputs": [
    {
     "data": {
      "text/html": [
       "<div>\n",
       "<style scoped>\n",
       "    .dataframe tbody tr th:only-of-type {\n",
       "        vertical-align: middle;\n",
       "    }\n",
       "\n",
       "    .dataframe tbody tr th {\n",
       "        vertical-align: top;\n",
       "    }\n",
       "\n",
       "    .dataframe thead th {\n",
       "        text-align: right;\n",
       "    }\n",
       "</style>\n",
       "<table border=\"1\" class=\"dataframe\">\n",
       "  <thead>\n",
       "    <tr style=\"text-align: right;\">\n",
       "      <th></th>\n",
       "      <th>Open</th>\n",
       "      <th>High</th>\n",
       "      <th>Low</th>\n",
       "      <th>Close</th>\n",
       "      <th>volume</th>\n",
       "      <th>final_ba_position</th>\n",
       "    </tr>\n",
       "    <tr>\n",
       "      <th>bar_close_timestamp</th>\n",
       "      <th></th>\n",
       "      <th></th>\n",
       "      <th></th>\n",
       "      <th></th>\n",
       "      <th></th>\n",
       "      <th></th>\n",
       "    </tr>\n",
       "  </thead>\n",
       "  <tbody>\n",
       "    <tr>\n",
       "      <th>2021-01-01 04:31:59.999000+00:00</th>\n",
       "      <td>533.05</td>\n",
       "      <td>533.25</td>\n",
       "      <td>533.00</td>\n",
       "      <td>533.25</td>\n",
       "      <td>9782</td>\n",
       "      <td>-18</td>\n",
       "    </tr>\n",
       "    <tr>\n",
       "      <th>2021-01-01 04:32:59.999000+00:00</th>\n",
       "      <td>533.20</td>\n",
       "      <td>533.25</td>\n",
       "      <td>533.00</td>\n",
       "      <td>533.00</td>\n",
       "      <td>10696</td>\n",
       "      <td>-9</td>\n",
       "    </tr>\n",
       "    <tr>\n",
       "      <th>2021-01-01 04:33:59.999000+00:00</th>\n",
       "      <td>533.00</td>\n",
       "      <td>533.30</td>\n",
       "      <td>533.00</td>\n",
       "      <td>533.30</td>\n",
       "      <td>4401</td>\n",
       "      <td>-26</td>\n",
       "    </tr>\n",
       "    <tr>\n",
       "      <th>2021-01-01 04:34:59.999000+00:00</th>\n",
       "      <td>533.30</td>\n",
       "      <td>533.45</td>\n",
       "      <td>533.20</td>\n",
       "      <td>533.40</td>\n",
       "      <td>10959</td>\n",
       "      <td>26</td>\n",
       "    </tr>\n",
       "    <tr>\n",
       "      <th>2021-01-01 04:35:59.999000+00:00</th>\n",
       "      <td>533.30</td>\n",
       "      <td>533.50</td>\n",
       "      <td>533.25</td>\n",
       "      <td>533.35</td>\n",
       "      <td>4708</td>\n",
       "      <td>39</td>\n",
       "    </tr>\n",
       "    <tr>\n",
       "      <th>...</th>\n",
       "      <td>...</td>\n",
       "      <td>...</td>\n",
       "      <td>...</td>\n",
       "      <td>...</td>\n",
       "      <td>...</td>\n",
       "      <td>...</td>\n",
       "    </tr>\n",
       "    <tr>\n",
       "      <th>2021-01-01 07:48:59.999000+00:00</th>\n",
       "      <td>528.70</td>\n",
       "      <td>528.90</td>\n",
       "      <td>528.65</td>\n",
       "      <td>528.75</td>\n",
       "      <td>20460</td>\n",
       "      <td>17</td>\n",
       "    </tr>\n",
       "    <tr>\n",
       "      <th>2021-01-01 07:49:59.999000+00:00</th>\n",
       "      <td>528.75</td>\n",
       "      <td>528.85</td>\n",
       "      <td>528.75</td>\n",
       "      <td>528.85</td>\n",
       "      <td>14152</td>\n",
       "      <td>42</td>\n",
       "    </tr>\n",
       "    <tr>\n",
       "      <th>2021-01-01 07:50:59.999000+00:00</th>\n",
       "      <td>528.80</td>\n",
       "      <td>528.95</td>\n",
       "      <td>528.80</td>\n",
       "      <td>528.85</td>\n",
       "      <td>12239</td>\n",
       "      <td>17</td>\n",
       "    </tr>\n",
       "    <tr>\n",
       "      <th>2021-01-01 07:51:59.999000+00:00</th>\n",
       "      <td>528.85</td>\n",
       "      <td>528.85</td>\n",
       "      <td>528.60</td>\n",
       "      <td>528.65</td>\n",
       "      <td>15994</td>\n",
       "      <td>-18</td>\n",
       "    </tr>\n",
       "    <tr>\n",
       "      <th>2021-01-01 07:52:59.999000+00:00</th>\n",
       "      <td>528.65</td>\n",
       "      <td>528.70</td>\n",
       "      <td>528.55</td>\n",
       "      <td>528.55</td>\n",
       "      <td>23922</td>\n",
       "      <td>0</td>\n",
       "    </tr>\n",
       "  </tbody>\n",
       "</table>\n",
       "<p>202 rows × 6 columns</p>\n",
       "</div>"
      ],
      "text/plain": [
       "                                    Open    High     Low   Close  volume  \\\n",
       "bar_close_timestamp                                                        \n",
       "2021-01-01 04:31:59.999000+00:00  533.05  533.25  533.00  533.25    9782   \n",
       "2021-01-01 04:32:59.999000+00:00  533.20  533.25  533.00  533.00   10696   \n",
       "2021-01-01 04:33:59.999000+00:00  533.00  533.30  533.00  533.30    4401   \n",
       "2021-01-01 04:34:59.999000+00:00  533.30  533.45  533.20  533.40   10959   \n",
       "2021-01-01 04:35:59.999000+00:00  533.30  533.50  533.25  533.35    4708   \n",
       "...                                  ...     ...     ...     ...     ...   \n",
       "2021-01-01 07:48:59.999000+00:00  528.70  528.90  528.65  528.75   20460   \n",
       "2021-01-01 07:49:59.999000+00:00  528.75  528.85  528.75  528.85   14152   \n",
       "2021-01-01 07:50:59.999000+00:00  528.80  528.95  528.80  528.85   12239   \n",
       "2021-01-01 07:51:59.999000+00:00  528.85  528.85  528.60  528.65   15994   \n",
       "2021-01-01 07:52:59.999000+00:00  528.65  528.70  528.55  528.55   23922   \n",
       "\n",
       "                                  final_ba_position  \n",
       "bar_close_timestamp                                  \n",
       "2021-01-01 04:31:59.999000+00:00                -18  \n",
       "2021-01-01 04:32:59.999000+00:00                 -9  \n",
       "2021-01-01 04:33:59.999000+00:00                -26  \n",
       "2021-01-01 04:34:59.999000+00:00                 26  \n",
       "2021-01-01 04:35:59.999000+00:00                 39  \n",
       "...                                             ...  \n",
       "2021-01-01 07:48:59.999000+00:00                 17  \n",
       "2021-01-01 07:49:59.999000+00:00                 42  \n",
       "2021-01-01 07:50:59.999000+00:00                 17  \n",
       "2021-01-01 07:51:59.999000+00:00                -18  \n",
       "2021-01-01 07:52:59.999000+00:00                  0  \n",
       "\n",
       "[202 rows x 6 columns]"
      ]
     },
     "execution_count": 23,
     "metadata": {},
     "output_type": "execute_result"
    }
   ],
   "source": [
    "df_icici"
   ]
  },
  {
   "cell_type": "code",
   "execution_count": 24,
   "id": "6be172e6",
   "metadata": {},
   "outputs": [],
   "source": [
    "# df_icici = df_icici.iloc[46:247] last 3\n",
    "# 2021-01-01 07:49:59.999000+00:00\t528.75\t528.85\t528.75\t528.85\t14152\t42\n",
    "# 2021-01-01 07:50:59.999000+00:00\t528.80\t528.95\t528.80\t528.85\t12239\t17\n",
    "# 2021-01-01 07:51:59.999000+00:00\t528.85\t528.85\t528.60\t528.65\t15994\t0\n",
    "\n",
    "# df_icici = df_icici.iloc[46:248] last 4\n",
    "# 2021-01-01 07:49:59.999000+00:00\t528.75\t528.85\t528.75\t528.85\t14152\t42\n",
    "# 2021-01-01 07:50:59.999000+00:00\t528.80\t528.95\t528.80\t528.85\t12239\t17\n",
    "# 2021-01-01 07:51:59.999000+00:00\t528.85\t528.85\t528.60\t528.65\t15994\t-18\n",
    "# 2021-01-01 07:52:59.999000+00:00\t528.65\t528.70\t528.55\t528.55\t23922\t0\n"
   ]
  },
  {
   "cell_type": "code",
   "execution_count": 25,
   "id": "654c8034",
   "metadata": {},
   "outputs": [
    {
     "data": {
      "text/plain": [
       "np.float64(-3.23176)"
      ]
     },
     "execution_count": 25,
     "metadata": {},
     "output_type": "execute_result"
    }
   ],
   "source": [
    "np.round(perf.compute_backtesting_return(df_icici)[-1], 5)"
   ]
  },
  {
   "cell_type": "code",
   "execution_count": 26,
   "id": "3eb0398e",
   "metadata": {},
   "outputs": [
    {
     "data": {
      "application/vnd.jupyter.widget-view+json": {
       "model_id": "7aa7bb51b46647d187c2ae0f36ab8859",
       "version_major": 2,
       "version_minor": 0
      },
      "text/plain": [
       "Backtest.run:   0%|          | 0/201 [00:00<?, ?bar/s]"
      ]
     },
     "metadata": {},
     "output_type": "display_data"
    }
   ],
   "source": [
    "bt = Backtest(\n",
    "  df_icici,\n",
    "  PositionStrategy,\n",
    "  commission=0.0005,\n",
    "  trade_on_close=True,\n",
    "  hedging=False,\n",
    "  exclusive_orders=False,\n",
    ")\n",
    "stats = bt.run()"
   ]
  },
  {
   "cell_type": "code",
   "execution_count": 27,
   "id": "ccea8447",
   "metadata": {},
   "outputs": [
    {
     "data": {
      "text/plain": [
       "np.float64(-3.20218)"
      ]
     },
     "execution_count": 27,
     "metadata": {},
     "output_type": "execute_result"
    }
   ],
   "source": [
    "np.round(stats[\"Return [%]\"], 5)"
   ]
  },
  {
   "cell_type": "code",
   "execution_count": null,
   "id": "4e7862c6",
   "metadata": {},
   "outputs": [],
   "source": []
  },
  {
   "cell_type": "code",
   "execution_count": null,
   "id": "34676f4b",
   "metadata": {},
   "outputs": [],
   "source": []
  }
 ],
 "metadata": {
  "kernelspec": {
   "display_name": ".venv",
   "language": "python",
   "name": "python3"
  },
  "language_info": {
   "codemirror_mode": {
    "name": "ipython",
    "version": 3
   },
   "file_extension": ".py",
   "mimetype": "text/x-python",
   "name": "python",
   "nbconvert_exporter": "python",
   "pygments_lexer": "ipython3",
   "version": "3.12.11"
  }
 },
 "nbformat": 4,
 "nbformat_minor": 5
}
